{
  "cells": [
    {
      "cell_type": "markdown",
      "metadata": {
        "id": "view-in-github",
        "colab_type": "text"
      },
      "source": [
        "<a href=\"https://colab.research.google.com/github/narrissat/narrissat/blob/master/Copy_of_Narrissa_Pandas_Event_Scheduling_Notebook_(1).ipynb\" target=\"_parent\"><img src=\"https://colab.research.google.com/assets/colab-badge.svg\" alt=\"Open In Colab\"/></a>"
      ]
    },
    {
      "cell_type": "markdown",
      "metadata": {
        "id": "Z0pldwp2kcou"
      },
      "source": [
        "# Event Scheduling Optimization Using Pandas\n",
        "\n",
        "This project demonstrates how Pandas can be used to clean, organize, and analyze event scheduling data for an event venue.\n",
        "The dataset is synthetic and used for educational purposes to replicate real-world booking challenges.\n",
        "Key goals include detecting booking conflicts, identifying room usage trends, and calculating event durations.\n",
        "\n",
        "**Project Goals:**\n",
        "- Clean and merge scheduling data\n",
        "- Engineer features like event duration and time of day\n",
        "- Identify underutilized days/rooms\n",
        "- Flag scheduling conflicts\n",
        "- Prepare data for visualization or dashboard integration"
      ],
      "id": "Z0pldwp2kcou"
    },
    {
      "cell_type": "code",
      "execution_count": null,
      "metadata": {
        "id": "gz-DPD7ikcoy"
      },
      "outputs": [],
      "source": [
        "# Import necessary libraries\n",
        "import pandas as pd\n",
        "import numpy as np\n",
        "from datetime import datetime\n"
      ],
      "id": "gz-DPD7ikcoy"
    },
    {
      "cell_type": "markdown",
      "metadata": {
        "id": "9kRorqFCkco1"
      },
      "source": [
        "## Load and preview synthetic scheduling data"
      ],
      "id": "9kRorqFCkco1"
    },
    {
      "cell_type": "code",
      "execution_count": null,
      "metadata": {
        "id": "XM7wbPBgkco1"
      },
      "outputs": [],
      "source": [
        "# Sample synthetic dataset\n",
        "data = {\n",
        "    'Event_ID': [101, 102, 103, 104],\n",
        "    'Client_Type': ['Corporate', 'Wedding', 'Corporate', 'Private'],\n",
        "    'Start_Date': ['2024-06-01 10:00', '2024-06-01 17:00', '2024-06-02 14:00', '2024-06-03 12:00'],\n",
        "    'End_Date': ['2024-06-01 14:00', '2024-06-01 22:00', '2024-06-02 18:00', '2024-06-03 16:00'],\n",
        "    'Room_Assigned': ['A', 'A', 'B', 'A'],\n",
        "    'Event_Price': [5000, 7000, 4500, 4000],\n",
        "    'Confirmed_Status': ['Yes', 'Yes', 'No', 'Yes']\n",
        "}\n",
        "df = pd.DataFrame(data)\n",
        "df['Start_Date'] = pd.to_datetime(df['Start_Date'])\n",
        "df['End_Date'] = pd.to_datetime(df['End_Date'])\n",
        "df['Duration_Hours'] = (df['End_Date'] - df['Start_Date']).dt.total_seconds() / 3600\n",
        "df.head()"
      ],
      "id": "XM7wbPBgkco1"
    },
    {
      "cell_type": "markdown",
      "metadata": {
        "id": "NUwGQ1gBkco2"
      },
      "source": [
        "## Analyze booking trends by room and day of the week"
      ],
      "id": "NUwGQ1gBkco2"
    },
    {
      "cell_type": "code",
      "execution_count": null,
      "metadata": {
        "id": "lMv5ZSkYkco2"
      },
      "outputs": [],
      "source": [
        "df['DayOfWeek'] = df['Start_Date'].dt.day_name()\n",
        "grouped = df.groupby(['Room_Assigned', 'DayOfWeek']).agg({'Event_ID': 'count', 'Duration_Hours': 'sum'})\n",
        "grouped.rename(columns={'Event_ID': 'Event_Count'}, inplace=True)\n",
        "grouped"
      ],
      "id": "lMv5ZSkYkco2"
    },
    {
      "cell_type": "markdown",
      "metadata": {
        "id": "ohNp4W44kco2"
      },
      "source": [
        "## Flag overlapping events in the same room"
      ],
      "id": "ohNp4W44kco2"
    },
    {
      "cell_type": "code",
      "execution_count": null,
      "metadata": {
        "id": "ABv74sllkco3"
      },
      "outputs": [],
      "source": [
        "df = df.sort_values(by='Start_Date')\n",
        "df['Overlapping_Event'] = df.duplicated(subset=['Room_Assigned', 'Start_Date'], keep=False)\n",
        "df[['Event_ID', 'Room_Assigned', 'Start_Date', 'End_Date', 'Overlapping_Event']]"
      ],
      "id": "ABv74sllkco3"
    }
  ],
  "metadata": {
    "kernelspec": {
      "display_name": "Python 3",
      "language": "python",
      "name": "python3"
    },
    "language_info": {
      "name": "python",
      "version": "3.8.5"
    },
    "colab": {
      "provenance": [],
      "toc_visible": true,
      "include_colab_link": true
    }
  },
  "nbformat": 4,
  "nbformat_minor": 5
}