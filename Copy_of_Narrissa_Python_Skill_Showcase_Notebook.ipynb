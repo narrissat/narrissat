{
  "cells": [
    {
      "cell_type": "markdown",
      "metadata": {
        "id": "view-in-github",
        "colab_type": "text"
      },
      "source": [
        "<a href=\"https://colab.research.google.com/github/narrissat/narrissat/blob/master/Copy_of_Narrissa_Python_Skill_Showcase_Notebook.ipynb\" target=\"_parent\"><img src=\"https://colab.research.google.com/assets/colab-badge.svg\" alt=\"Open In Colab\"/></a>"
      ]
    },
    {
      "cell_type": "markdown",
      "metadata": {
        "id": "X-7NVe5_x70q"
      },
      "source": [
        "# Python Skill Showcase – Service Optimization Example\n",
        "\n",
        "This notebook demonstrates how Python can be used to solve real-world problems through scripting, logic, and automation. It is inspired by a real-world task I performed while helping manage and optimize service scheduling at a salon. This tiny sample models how we might assign new clients, or those who do not have a preferred stylist to available team members based on service type and preferred day. It reflects just a small part of a broader system built to manage stylist-client coordination.\n",
        "\n",
        "**Key Python Concepts Demonstrated:**\n",
        "- String manipulation\n",
        "- Conditional logic\n",
        "- Dictionary usage\n",
        "- Custom function creation\n",
        "- Automation through iteration"
      ],
      "id": "X-7NVe5_x70q"
    },
    {
      "cell_type": "code",
      "execution_count": null,
      "metadata": {
        "id": "VwawQZbqx70t"
      },
      "outputs": [],
      "source": [
        "# Sample problem: Assigning stylists based on service type and availability\n",
        "clients = [\n",
        "    {\"name\": \"Anna\", \"service\": \"Color\", \"preferred_day\": \"Tuesday\"},\n",
        "    {\"name\": \"Jordan\", \"service\": \"Cut\", \"preferred_day\": \"Wednesday\"},\n",
        "    {\"name\": \"Lia\", \"service\": \"Blowout\", \"preferred_day\": \"Tuesday\"}\n",
        "]\n",
        "\n",
        "stylists = {\n",
        "    \"Color\": {\"name\": \"Narrissa\", \"available_days\": [\"Tuesday\", \"Thursday\"]},\n",
        "    \"Cut\": {\"name\": \"Jess\", \"available_days\": [\"Wednesday\", \"Friday\"]},\n",
        "    \"Blowout\": {\"name\": \"Ava\", \"available_days\": [\"Tuesday\", \"Saturday\"]}\n",
        "}\n",
        "\n",
        "assigned = []\n",
        "\n",
        "for client in clients:\n",
        "    service = client['service']\n",
        "    day = client['preferred_day']\n",
        "    stylist = stylists.get(service, {})\n",
        "    if day in stylist.get('available_days', []):\n",
        "        assigned.append({\n",
        "            'client': client['name'],\n",
        "            'stylist': stylist['name'],\n",
        "            'day': day\n",
        "        })\n",
        "    else:\n",
        "        assigned.append({\n",
        "            'client': client['name'],\n",
        "            'stylist': 'No stylist available',\n",
        "            'day': day\n",
        "        })"
      ],
      "id": "VwawQZbqx70t"
    },
    {
      "cell_type": "markdown",
      "metadata": {
        "id": "qY9jd6U9x70u"
      },
      "source": [
        "## Final assigned schedule"
      ],
      "id": "qY9jd6U9x70u"
    },
    {
      "cell_type": "code",
      "execution_count": null,
      "metadata": {
        "colab": {
          "base_uri": "https://localhost:8080/"
        },
        "id": "S3nFZYPYx70v",
        "outputId": "17f3407b-14eb-4edf-8257-cbf6cbe3d80c"
      },
      "outputs": [
        {
          "output_type": "stream",
          "name": "stdout",
          "text": [
            "Anna is assigned to Narrissa on Tuesday\n",
            "Jordan is assigned to Jess on Wednesday\n",
            "Lia is assigned to Ava on Tuesday\n"
          ]
        }
      ],
      "source": [
        "for item in assigned:\n",
        "    print(f\"{item['client']} is assigned to {item['stylist']} on {item['day']}\")"
      ],
      "id": "S3nFZYPYx70v"
    }
  ],
  "metadata": {
    "kernelspec": {
      "display_name": "Python 3",
      "language": "python",
      "name": "python3"
    },
    "language_info": {
      "name": "python",
      "version": "3.8.5"
    },
    "colab": {
      "provenance": [],
      "include_colab_link": true
    }
  },
  "nbformat": 4,
  "nbformat_minor": 5
}